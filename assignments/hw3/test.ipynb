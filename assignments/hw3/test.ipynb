{
 "cells": [
  {
   "cell_type": "code",
   "execution_count": 3,
   "metadata": {},
   "outputs": [],
   "source": [
    "import pandas as pd\n",
    "import numpy as np\n",
    "import nltk\n",
    "import string\n",
    "import re\n",
    "from nltk.tokenize import sent_tokenize, word_tokenize"
   ]
  },
  {
   "cell_type": "code",
   "execution_count": 4,
   "metadata": {},
   "outputs": [],
   "source": [
    "def remove_between_square_brackets(text):\n",
    "  return re.sub('\\[[^]]*\\]', '', text)\n",
    "\n",
    "def remove_special_characters(text, remove_digits=True):\n",
    "  pattern=r'[^a-zA-z0-9\\s]'\n",
    "  text=re.sub(pattern,'',text) \n",
    "  return text\n",
    "\n",
    "def get_word_count(text):\n",
    "    stopwords_list = ['i', 'me', 'my', 'myself', 'we', 'our', 'ours', 'ourselves', 'you', \"you're\", \"you've\", \"you'll\", \"you'd\", 'your', 'yours', 'yourself', 'yourselves', 'he', 'him', 'his', 'himself', 'she', \"she's\", 'her', 'hers', 'herself', 'it', \"it's\", 'its', 'itself', 'they', 'them', 'their', 'theirs', 'themselves', 'what', 'which', 'who', 'whom', 'this', 'that', \"that'll\", 'these', 'those', 'am', 'is', 'are', 'was', 'were', 'be', 'been', 'being', 'have', 'has', 'had', 'having', 'do', 'does', 'did', 'doing', 'a', 'an', 'the', 'and', 'but', 'if', 'or', 'because', 'as', 'until', 'while', 'of', 'at', 'by', 'for', 'with', 'about', 'against', 'between', 'into', 'through', 'during', 'before', 'after', 'above', 'below', 'to', 'from', 'up', 'down', 'in', 'out', 'on', 'off', 'over', 'under', 'again', 'further', 'then', 'once', 'here', 'there', 'when', 'where', 'why', 'how', 'all', 'any', 'both', 'each', 'few', 'more', 'most', 'other', 'some', 'such', 'no', 'nor', 'not', 'only', 'own', 'same', 'so', 'than', 'too', 'very', 's', 't', 'can', 'will', 'just', 'don', \"don't\", 'should', \"should've\", 'now', 'd', 'll', 'm', 'o', 're', 've', 'y', 'ain', 'aren', \"aren't\", 'couldn', \"couldn't\", 'didn', \"didn't\", 'doesn', \"doesn't\", 'hadn', \"hadn't\", 'hasn', \"hasn't\", 'haven', \"haven't\", 'isn', \"isn't\", 'ma', 'mightn', \"mightn't\", 'mustn', \"mustn't\", 'needn', \"needn't\", 'shan', \"shan't\", 'shouldn', \"shouldn't\", 'wasn', \"wasn't\", 'weren', \"weren't\", 'won', \"won't\", 'wouldn', \"wouldn't\"]\n",
    "    word_count = {}\n",
    "    for sent in sent_tokenize(text):\n",
    "        for word in word_tokenize(sent):\n",
    "            if word in word_count and word not in stopwords_list and word not in string.punctuation:\n",
    "                word_count[word] += 1\n",
    "            elif word not in word_count and word not in stopwords_list and word not in string.punctuation:\n",
    "                word_count[word] = 1\n",
    "    return word_count\n",
    "\n",
    "def tokenize_text(text):\n",
    "    return [word for sent in sent_tokenize(text) for word in word_tokenize(sent)]\n",
    "\n",
    "def replace_text_stemming(text):\n",
    "    stemmer = nltk.stem.PorterStemmer()\n",
    "    stems = [stemmer.stem(word) for word in tokenize_text(text)]\n",
    "    return \" \".join(stems)\n",
    "\n",
    "def get_vector(text, vocabulary):\n",
    "    tokens = tokenize_text(text)\n",
    "    vector = np.zeros(len(vocabulary))\n",
    "    for token in tokens:\n",
    "        if token in vocabulary:\n",
    "            vector[list(vocabulary.keys()).index(token)]+= 1\n",
    "    return vector\n",
    "    \n",
    "def get_features_labels(df, label_column_name):\n",
    "    if 'Unnamed: 0' in df.columns:\n",
    "        df.drop('Unnamed: 0', 1, inplace=True)\n",
    "    labels = df[label_column_name]\n",
    "    train_features = df.drop(label_column_name, 1)\n",
    "    return train_features, labels.to_numpy()\n",
    "\n",
    "def build_vocab(dataset):\n",
    "    text_corpus = \"\"\n",
    "    for i in range(0, dataset.shape[0]):\n",
    "        text_corpus += \" \" + dataset.iloc[i]['Text']\n",
    "    text_corpus = text_corpus.lower()\n",
    "    text_corpus = remove_between_square_brackets(text_corpus)\n",
    "    text_corpus = remove_special_characters(text_corpus, True)\n",
    "    \n",
    "    stemmed_corpus = replace_text_stemming(text_corpus)\n",
    "    vocabulary = get_word_count(stemmed_corpus)\n",
    "    updated_vocab = {}\n",
    "    for key in vocabulary.keys():\n",
    "        if(vocabulary[key]>0.01*dataset.shape[0] and vocabulary[key]<2*dataset.shape[0]):\n",
    "            updated_vocab[key] = vocabulary[key]\n",
    "    return updated_vocab"
   ]
  },
  {
   "cell_type": "code",
   "execution_count": 96,
   "metadata": {},
   "outputs": [],
   "source": [
    "def generate_N_grams(ngram, dataset):\n",
    "  # text_corpus = \"Firstly, word tokenization is done[89] where the 1100 stop words are ignored and the remaining words are retained.\"\n",
    "  text_corpus = \"\"\n",
    "  for i in range(0, dataset.shape[0]):\n",
    "      text_corpus += \" \" + dataset.iloc[i]['Text']\n",
    "  text_corpus = text_corpus.lower()\n",
    "  text_corpus = remove_between_square_brackets(text_corpus)\n",
    "  text_corpus = remove_special_characters(text_corpus, True)\n",
    "  # print(\"COrpus now:\", text_corpus)\n",
    "  stemmed_corpus = replace_text_stemming(text_corpus)\n",
    "  # print(\"COrpus now:\", stemmed_corpus)\n",
    "  # words=[word for word in text.split(\" \") if word not in set(stopwords.words('english'))]  \n",
    "  # print(\"Sentence after removing stopwords:\",words)\n",
    "  token=word_tokenize(stemmed_corpus)\n",
    "  # print(type(token))\n",
    "  stopwords_list = ['i', 'me', 'my', 'myself', 'we', 'our', 'ours', 'ourselves', 'you', \"you're\", \"you've\", \"you'll\", \"you'd\", 'your', 'yours', 'yourself', 'yourselves', 'he', 'him', 'his', 'himself', 'she', \"she's\", 'her', 'hers', 'herself', 'it', \"it's\", 'its', 'itself', 'they', 'them', 'their', 'theirs', 'themselves', 'what', 'which', 'who', 'whom', 'this', 'that', \"that'll\", 'these', 'those', 'am', 'is', 'are', 'was', 'were', 'be', 'been', 'being', 'have', 'has', 'had', 'having', 'do', 'does', 'did', 'doing', 'a', 'an', 'the', 'and', 'but', 'if', 'or', 'because', 'as', 'until', 'while', 'of', 'at', 'by', 'for', 'with', 'about', 'against', 'between', 'into', 'through', 'during', 'before', 'after', 'above', 'below', 'to', 'from', 'up', 'down', 'in', 'out', 'on', 'off', 'over', 'under', 'again', 'further', 'then', 'once', 'here', 'there', 'when', 'where', 'why', 'how', 'all', 'any', 'both', 'each', 'few', 'more', 'most', 'other', 'some', 'such', 'no', 'nor', 'not', 'only', 'own', 'same', 'so', 'than', 'too', 'very', 's', 't', 'can', 'will', 'just', 'don', \"don't\", 'should', \"should've\", 'now', 'd', 'll', 'm', 'o', 're', 've', 'y', 'ain', 'aren', \"aren't\", 'couldn', \"couldn't\", 'didn', \"didn't\", 'doesn', \"doesn't\", 'hadn', \"hadn't\", 'hasn', \"hasn't\", 'haven', \"haven't\", 'isn', \"isn't\", 'ma', 'mightn', \"mightn't\", 'mustn', \"mustn't\", 'needn', \"needn't\", 'shan', \"shan't\", 'shouldn', \"shouldn't\", 'wasn', \"wasn't\", 'weren', \"weren't\", 'won', \"won't\", 'wouldn', \"wouldn't\"]\n",
    "  token = [tok for tok in token if tok not in stopwords_list] \n",
    "  token = [tok for tok in token if tok not in string.punctuation]\n",
    "  # for word in word_tokenize(sent):\n",
    "  temp=zip(*[token[i:] for i in range(0,ngram)])\n",
    "  ans=[' '.join(ngram) for ngram in temp]\n",
    "  return ans"
   ]
  },
  {
   "cell_type": "code",
   "execution_count": 39,
   "metadata": {},
   "outputs": [],
   "source": [
    "def split_dataset(all_data):\n",
    "    test_data = all_data.sample(random_state = 47, frac = 0.2)\n",
    "    train_data = all_data.drop(test_data.index)\n",
    "    \n",
    "    \"\"\"\n",
    "    This function will take in as input the whole dataset and you will have to program how to split the dataset into\n",
    "    training and test datasets. These are the following requirements:\n",
    "        -The function must take only one parameter which is all_data as a pandas dataframe of the raw dataset.\n",
    "        -It must return 2 outputs in the specified order: train and test datasets\n",
    "        \n",
    "    It is up to you how you want to do the splitting of the data.\n",
    "    \"\"\"\n",
    "    return train_data, test_data\n",
    "\n",
    "all_data = pd.read_csv('data.csv', index_col=0)\n",
    "train_data, test_data = split_dataset(all_data)\n",
    "\n",
    "# ans = generate_N_grams(4)\n",
    "# print(len(ans))\n",
    "# ans"
   ]
  },
  {
   "cell_type": "code",
   "execution_count": 87,
   "metadata": {},
   "outputs": [
    {
     "name": "stdout",
     "output_type": "stream",
     "text": [
      "<class 'list'>\n",
      "503027\n"
     ]
    }
   ],
   "source": [
    "ans = generate_N_grams(3, train_data)\n",
    "print(len(ans))"
   ]
  },
  {
   "cell_type": "code",
   "execution_count": 56,
   "metadata": {},
   "outputs": [
    {
     "name": "stdout",
     "output_type": "stream",
     "text": [
      "COrpus now: firstli word token is done where the 1100 stop word are ignor and the remain word are retain\n",
      "<class 'list'>\n",
      "11\n"
     ]
    }
   ],
   "source": [
    "ans = generate_N_grams(1, train_data)\n",
    "print(len(ans))"
   ]
  },
  {
   "cell_type": "code",
   "execution_count": 64,
   "metadata": {},
   "outputs": [],
   "source": [
    "def get_word_count_n_gram(n_gram_token_list):\n",
    "    # stopwords_list = ['i', 'me', 'my', 'myself', 'we', 'our', 'ours', 'ourselves', 'you', \"you're\", \"you've\", \"you'll\", \"you'd\", 'your', 'yours', 'yourself', 'yourselves', 'he', 'him', 'his', 'himself', 'she', \"she's\", 'her', 'hers', 'herself', 'it', \"it's\", 'its', 'itself', 'they', 'them', 'their', 'theirs', 'themselves', 'what', 'which', 'who', 'whom', 'this', 'that', \"that'll\", 'these', 'those', 'am', 'is', 'are', 'was', 'were', 'be', 'been', 'being', 'have', 'has', 'had', 'having', 'do', 'does', 'did', 'doing', 'a', 'an', 'the', 'and', 'but', 'if', 'or', 'because', 'as', 'until', 'while', 'of', 'at', 'by', 'for', 'with', 'about', 'against', 'between', 'into', 'through', 'during', 'before', 'after', 'above', 'below', 'to', 'from', 'up', 'down', 'in', 'out', 'on', 'off', 'over', 'under', 'again', 'further', 'then', 'once', 'here', 'there', 'when', 'where', 'why', 'how', 'all', 'any', 'both', 'each', 'few', 'more', 'most', 'other', 'some', 'such', 'no', 'nor', 'not', 'only', 'own', 'same', 'so', 'than', 'too', 'very', 's', 't', 'can', 'will', 'just', 'don', \"don't\", 'should', \"should've\", 'now', 'd', 'll', 'm', 'o', 're', 've', 'y', 'ain', 'aren', \"aren't\", 'couldn', \"couldn't\", 'didn', \"didn't\", 'doesn', \"doesn't\", 'hadn', \"hadn't\", 'hasn', \"hasn't\", 'haven', \"haven't\", 'isn', \"isn't\", 'ma', 'mightn', \"mightn't\", 'mustn', \"mustn't\", 'needn', \"needn't\", 'shan', \"shan't\", 'shouldn', \"shouldn't\", 'wasn', \"wasn't\", 'weren', \"weren't\", 'won', \"won't\", 'wouldn', \"wouldn't\"]\n",
    "    word_count = {}\n",
    "    for token in n_gram_token_list:\n",
    "        if token in word_count:\n",
    "            word_count[token]+=1\n",
    "        elif token not in word_count:\n",
    "            word_count[token]=1\n",
    "    # for sent in sent_tokenize(text):\n",
    "    #     for word in word_tokenize(sent):\n",
    "    #         if word in word_count and word not in stopwords_list and word not in string.punctuation:\n",
    "    #             word_count[word] += 1\n",
    "    #         elif word not in word_count and word not in stopwords_list and word not in string.punctuation:\n",
    "    #             word_count[word] = 1\n",
    "    return word_count"
   ]
  },
  {
   "cell_type": "code",
   "execution_count": 109,
   "metadata": {},
   "outputs": [
    {
     "name": "stdout",
     "output_type": "stream",
     "text": [
      "26949\n",
      "3879\n"
     ]
    }
   ],
   "source": [
    "# vocab_n_gram = get_word_count_n_gram(ans)\n",
    "# print(len(vocab_n_gram))\n",
    "# updated_vocab_n_gram = {}\n",
    "# for key in vocab_n_gram.keys():\n",
    "#     if(vocab_n_gram[key]>6 and vocab_n_gram[key]<200):\n",
    "#         updated_vocab_n_gram[key] = vocab_n_gram[key]\n",
    "# print(len(updated_vocab_n_gram))\n",
    "n_gram_value=1\n",
    "dataset = train_data\n",
    "def build_vocab_n_gram(dataset, n_gram_value):\n",
    "    n_gram_tokens = generate_N_grams(n_gram_value, dataset)\n",
    "    vocab_n_gram_value = get_word_count_n_gram(n_gram_tokens)\n",
    "    print(len(vocab_n_gram_value))\n",
    "    updated_vocab_n_gram_value = {}\n",
    "    for key in vocab_n_gram_value.keys():\n",
    "        if(vocab_n_gram_value[key]>17 and vocab_n_gram_value[key]<20000):\n",
    "            updated_vocab_n_gram_value[key] = vocab_n_gram_value[key]\n",
    "    # print(len(updated_vocab_n_gram_value))\n",
    "    return updated_vocab_n_gram_value\n",
    "\n",
    "final_vocab = build_vocab_n_gram(dataset, n_gram_value)\n",
    "print(len(final_vocab))"
   ]
  },
  {
   "cell_type": "code",
   "execution_count": 98,
   "metadata": {},
   "outputs": [],
   "source": [
    "def generate_N_grams_for_sent(ngram, sent):\n",
    "  # text_corpus = \"Firstly, word tokenization is done[89] where the 1100 stop words are ignored and the remaining words are retained.\"\n",
    "  text_corpus = sent\n",
    "#   for i in range(0, dataset.shape[0]):\n",
    "#       text_corpus += \" \" + dataset.iloc[i]['Text']\n",
    "  text_corpus = text_corpus.lower()\n",
    "  text_corpus = remove_between_square_brackets(text_corpus)\n",
    "  text_corpus = remove_special_characters(text_corpus, True)\n",
    "  # print(\"COrpus now:\", text_corpus)\n",
    "  stemmed_corpus = replace_text_stemming(text_corpus)\n",
    "  # print(\"COrpus now:\", stemmed_corpus)\n",
    "  # words=[word for word in text.split(\" \") if word not in set(stopwords.words('english'))]  \n",
    "  # print(\"Sentence after removing stopwords:\",words)\n",
    "  token=word_tokenize(stemmed_corpus)\n",
    "  # print(type(token))\n",
    "  stopwords_list = ['i', 'me', 'my', 'myself', 'we', 'our', 'ours', 'ourselves', 'you', \"you're\", \"you've\", \"you'll\", \"you'd\", 'your', 'yours', 'yourself', 'yourselves', 'he', 'him', 'his', 'himself', 'she', \"she's\", 'her', 'hers', 'herself', 'it', \"it's\", 'its', 'itself', 'they', 'them', 'their', 'theirs', 'themselves', 'what', 'which', 'who', 'whom', 'this', 'that', \"that'll\", 'these', 'those', 'am', 'is', 'are', 'was', 'were', 'be', 'been', 'being', 'have', 'has', 'had', 'having', 'do', 'does', 'did', 'doing', 'a', 'an', 'the', 'and', 'but', 'if', 'or', 'because', 'as', 'until', 'while', 'of', 'at', 'by', 'for', 'with', 'about', 'against', 'between', 'into', 'through', 'during', 'before', 'after', 'above', 'below', 'to', 'from', 'up', 'down', 'in', 'out', 'on', 'off', 'over', 'under', 'again', 'further', 'then', 'once', 'here', 'there', 'when', 'where', 'why', 'how', 'all', 'any', 'both', 'each', 'few', 'more', 'most', 'other', 'some', 'such', 'no', 'nor', 'not', 'only', 'own', 'same', 'so', 'than', 'too', 'very', 's', 't', 'can', 'will', 'just', 'don', \"don't\", 'should', \"should've\", 'now', 'd', 'll', 'm', 'o', 're', 've', 'y', 'ain', 'aren', \"aren't\", 'couldn', \"couldn't\", 'didn', \"didn't\", 'doesn', \"doesn't\", 'hadn', \"hadn't\", 'hasn', \"hasn't\", 'haven', \"haven't\", 'isn', \"isn't\", 'ma', 'mightn', \"mightn't\", 'mustn', \"mustn't\", 'needn', \"needn't\", 'shan', \"shan't\", 'shouldn', \"shouldn't\", 'wasn', \"wasn't\", 'weren', \"weren't\", 'won', \"won't\", 'wouldn', \"wouldn't\"]\n",
    "  token = [tok for tok in token if tok not in stopwords_list] \n",
    "  token = [tok for tok in token if tok not in string.punctuation]\n",
    "  # for word in word_tokenize(sent):\n",
    "  temp=zip(*[token[i:] for i in range(0,ngram)])\n",
    "  ans=[' '.join(ngram) for ngram in temp]\n",
    "  return ans\n",
    "\n",
    "def get_vector_n_gram(text, vocabulary, n_gram_value):\n",
    "    tokens = generate_N_grams_for_sent(n_gram_value, text)\n",
    "    vector = np.zeros(len(vocabulary))\n",
    "    for token in tokens:\n",
    "        if token in vocabulary:\n",
    "            vector[list(vocabulary.keys()).index(token)]+= 1\n",
    "    return vector"
   ]
  },
  {
   "cell_type": "code",
   "execution_count": 85,
   "metadata": {},
   "outputs": [
    {
     "name": "stdout",
     "output_type": "stream",
     "text": [
      "<class 'list'>\n"
     ]
    },
    {
     "data": {
      "text/plain": [
       "array([0., 0., 0., ..., 0., 0., 0.])"
      ]
     },
     "execution_count": 85,
     "metadata": {},
     "output_type": "execute_result"
    }
   ],
   "source": [
    "text = \"spoiled rich kid kelley morse ( chris klein ) receives a new mercedes for a graduation present\"\n",
    "vec = get_vector_n_gram(text, updated_vocab_n_gram, 2)\n",
    "vec"
   ]
  },
  {
   "cell_type": "code",
   "execution_count": 92,
   "metadata": {},
   "outputs": [],
   "source": [
    "class Logistic():\n",
    "    def __init__(self):\n",
    "        \"\"\"\n",
    "        The __init__ function initializes the instance attributes for the class. There should be no inputs to this\n",
    "        function at all. However, you can setup whatever instance attributes you would like to initialize for this\n",
    "        class. Below, I have just placed as an example the weights and bias of the logistic function as instance\n",
    "        attributes.\n",
    "        \"\"\"\n",
    "        self.vocabulary = None\n",
    "        self.weights = None\n",
    "        self.bias = None\n",
    "        self.n_gram_value = 2\n",
    "\n",
    "    def get_vocab(self, dataset):\n",
    "        self.vocabulary = build_vocab_n_gram(dataset, self.n_gram_value)\n",
    "    \n",
    "    def sigmoid(self, z):\n",
    "\t    return(1 / (1 + np.exp(-z))) \n",
    "    \n",
    "    def feature_extraction(self, data):\n",
    "        \"\"\"\n",
    "        Optional helper method to code the feature extraction function to transform the raw dataset into a processed\n",
    "        dataset to be used in training.\n",
    "        \"\"\"\n",
    "        df = []\n",
    "        for i in range(0, data.shape[0]):\n",
    "            df.append(get_vector_n_gram(data.iloc[i]['Text'], self.vocabulary, self.n_gram_value))\n",
    "        return np.array(df)\n",
    "\n",
    "    def logistic_loss(self, predicted_label, true_label):\n",
    "        \"\"\"\n",
    "        Optional helper method to code the loss function.\n",
    "        \"\"\"\n",
    "\n",
    "        return -np.sum(np.dot(true_label, np.log(predicted_label)), np.dot(1-true_label, np.log(1-predicted_label)))\n",
    "\n",
    "    def stochastic_gradient_descent(self, data, error):\n",
    "        \"\"\"\n",
    "        Optional helper method to compute a gradient update for a single point.\n",
    "        \"\"\"\n",
    "\n",
    "        return np.dot(data, error)\n",
    "\n",
    "    def update_weights(self, learning_rate, gradient):\n",
    "        \"\"\"\n",
    "        Optional helper method to update the weights during stochastic gradient descent.\n",
    "        \"\"\"\n",
    "        new_weights = learning_rate*gradient\n",
    "        self.weights -= new_weights\n",
    "\n",
    "    def update_bias(self, learning_rate, error):\n",
    "        \"\"\"\n",
    "        Optional helper method to update the bias during stochastic gradient descent.\n",
    "        \"\"\"\n",
    "        new_bias = np.dot(learning_rate,error)\n",
    "        self.bias -= new_bias\n",
    "\n",
    "    def predict_labels(self, data_point):\n",
    "        \"\"\"\n",
    "        Optional helper method to produce predictions for a single data point\n",
    "        \"\"\"\n",
    "        return np.round(self.sigmoid(np.dot(data_point, self.weights)))\n",
    "\n",
    "    def train(self, labeled_data, learning_rate=0.001, max_epochs=20):\n",
    "        \"\"\"\n",
    "        You must implement this function and it must take in as input data in the form of a pandas dataframe. This\n",
    "        dataframe must have the label of the data points stored in a column called 'Label'. For example, the column\n",
    "        labeled_data['Label'] must return the labels of every data point in the dataset. Additionally, this function\n",
    "        should not return anything.\n",
    "\n",
    "        The hyperparameters for training will be the learning rate and maximum number of epochs. Once you find the\n",
    "        optimal values, update the default values for both the learning rate and max epochs keyword argument.\n",
    "\n",
    "        The goal of this function is to train the logistic function on the labeled data. Feel free to code this\n",
    "        however you want.\n",
    "        \"\"\"\n",
    "        self.get_vocab(labeled_data)\n",
    "        X, y = get_features_labels(labeled_data, 'Label')\n",
    "        X = self.feature_extraction(X)\n",
    "     \n",
    "        self.weights = np.zeros(X.shape[1])\n",
    "        self.bias = 0\n",
    "\n",
    "        for step in range(0, max_epochs):\n",
    "            for idx, x_feature in enumerate(X):\n",
    "                scores = np.dot(x_feature, self.weights) + self.bias\n",
    "                prediction = self.sigmoid(scores)\n",
    "\n",
    "                output_error_signal = prediction - y[idx]\n",
    "                gradient = self.stochastic_gradient_descent(x_feature, output_error_signal)\n",
    "                self.update_weights(learning_rate, gradient)\n",
    "                self.update_bias(learning_rate, output_error_signal)\n",
    "\n",
    "    def predict(self, data):\n",
    "        predicted_labels = []\n",
    "        \"\"\"\n",
    "        This function is designed to produce labels on some data input. The only input is the data in the form of a \n",
    "        pandas dataframe. \n",
    "\n",
    "        Finally, you must return the variable predicted_labels which should contain a list of all the \n",
    "        predicted labels on the input dataset. This list should only contain integers  that are either 0 (negative) or 1\n",
    "        (positive) for each data point.\n",
    "\n",
    "        The rest of the implementation can be fully customized.\n",
    "        \"\"\"\n",
    "        X, y = get_features_labels(data, 'Label')\n",
    "        \n",
    "        X = self.feature_extraction(X)\n",
    "\n",
    "        for feature in X:\n",
    "            predicted_labels.append(self.predict_labels(feature))\n",
    "        return predicted_labels"
   ]
  },
  {
   "cell_type": "code",
   "execution_count": null,
   "metadata": {},
   "outputs": [],
   "source": [
    "logistic = Logistic()\n",
    "logistic.train(train_data)\n",
    "# predicted_train_labels_logistic = logistic.predict(train_data)"
   ]
  },
  {
   "cell_type": "code",
   "execution_count": null,
   "metadata": {},
   "outputs": [],
   "source": [
    "predicted_train_labels_logistic = logistic.predict(train_data)"
   ]
  },
  {
   "cell_type": "code",
   "execution_count": 100,
   "metadata": {},
   "outputs": [],
   "source": [
    "predicted_test_labels_logistic = logistic.predict(test_data)"
   ]
  },
  {
   "cell_type": "code",
   "execution_count": 101,
   "metadata": {},
   "outputs": [
    {
     "name": "stdout",
     "output_type": "stream",
     "text": [
      "\n",
      "\n",
      "-------------Logistic Function Performance-------------\n",
      "\n",
      "\n",
      "Training Accuracy Result!\n",
      "***************\n",
      "Accuracy: 0.9485294117647058\n",
      "***************\n",
      "\n",
      "Testing Accuracy Result!\n",
      "***************\n",
      "Accuracy: 0.7235294117647059\n",
      "***************\n"
     ]
    }
   ],
   "source": [
    "def accuracy(orig, pred):\n",
    "    num = len(orig)\n",
    "    if (num != len(pred)):\n",
    "        print('Error!! Num of labels are not equal.')\n",
    "        return\n",
    "    match = 0\n",
    "    for i in range(len(orig)):\n",
    "        o_label = orig[i]\n",
    "        p_label = pred[i]\n",
    "        if (o_label == p_label):\n",
    "            match += 1\n",
    "    print('***************\\nAccuracy: '+str(float(match) / num)+'\\n***************')\n",
    "\n",
    "def eval(o_train, p_train, o_val, p_val):\n",
    "    print('\\nTraining Accuracy Result!')\n",
    "    accuracy(o_train, p_train)\n",
    "    print('\\nTesting Accuracy Result!')\n",
    "    accuracy(o_val, p_val)\n",
    "\n",
    "print('\\n\\n-------------Logistic Function Performance-------------\\n')\n",
    "    # This command also runs the evaluation on the unseen test\n",
    "eval(train_data['Label'].tolist(), predicted_train_labels_logistic, test_data['Label'].tolist(),\n",
    "         predicted_test_labels_logistic)"
   ]
  },
  {
   "cell_type": "code",
   "execution_count": 15,
   "metadata": {},
   "outputs": [
    {
     "data": {
      "text/plain": [
       "['firstly word',\n",
       " 'word tokenization',\n",
       " 'tokenization is',\n",
       " 'is done',\n",
       " 'done 89',\n",
       " '89 where',\n",
       " 'where the',\n",
       " 'the 1100',\n",
       " '1100 stop',\n",
       " 'stop words',\n",
       " 'words are',\n",
       " 'are ignored',\n",
       " 'ignored and',\n",
       " 'and the',\n",
       " 'the remaining',\n",
       " 'remaining words',\n",
       " 'words are',\n",
       " 'are retained']"
      ]
     },
     "execution_count": 15,
     "metadata": {},
     "output_type": "execute_result"
    }
   ],
   "source": [
    "def generate_ngrams(s, n):\n",
    "    # Convert to lowercases\n",
    "    s = s.lower()\n",
    "    \n",
    "    # Replace all none alphanumeric characters with spaces\n",
    "    s = re.sub(r'[^a-zA-Z0-9\\s]', ' ', s)\n",
    "    \n",
    "    # Break sentence in the token, remove empty tokens\n",
    "    token = [token for token in s.split(\" \") if token != \"\"]\n",
    "    \n",
    "    # Use the zip function to help us generate n-grams\n",
    "    # Concatentate the tokens into ngrams and return\n",
    "    ngrams = zip(*[token[i:] for i in range(n)])\n",
    "    return [\" \".join(ngram) for ngram in ngrams]\n",
    "sent = \"Firstly, word tokenization is done[89] where the 1100 stop words are ignored and the remaining words are retained.\"\n",
    "ans = generate_ngrams(sent, 2)\n",
    "ans"
   ]
  },
  {
   "cell_type": "code",
   "execution_count": null,
   "metadata": {},
   "outputs": [],
   "source": []
  }
 ],
 "metadata": {
  "interpreter": {
   "hash": "47a62bc900abaa30fdaba9a8a8bbebde41861c65136e600fc26b837ae5d20c8c"
  },
  "kernelspec": {
   "display_name": "Python 3.7.6 64-bit ('base': conda)",
   "language": "python",
   "name": "python3"
  },
  "language_info": {
   "codemirror_mode": {
    "name": "ipython",
    "version": 3
   },
   "file_extension": ".py",
   "mimetype": "text/x-python",
   "name": "python",
   "nbconvert_exporter": "python",
   "pygments_lexer": "ipython3",
   "version": "3.7.6"
  },
  "orig_nbformat": 4
 },
 "nbformat": 4,
 "nbformat_minor": 2
}
